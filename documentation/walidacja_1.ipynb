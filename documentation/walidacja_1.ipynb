{
 "cells": [
  {
   "cell_type": "code",
   "execution_count": null,
   "metadata": {},
   "outputs": [],
   "source": [
    "import pandas as pd\n",
    "import numpy as np\n",
    "import matplotlib.pyplot as plt\n",
    "import seaborn as sns\n",
    "import warnings\n",
    "warnings.filterwarnings('ignore')\n",
    "from statsmodels.tsa.seasonal import seasonal_decompose\n",
    "import folium\n",
    "from folium.plugins import HeatMap\n",
    "from branca.colormap import linear\n",
    "from sklearn.decomposition import PCA\n",
    "from sklearn.manifold import TSNE\n",
    "from sklearn.decomposition import FastICA\n",
    "from sklearn.preprocessing import StandardScaler\n",
    "import plotly.express as px"
   ]
  },
  {
   "cell_type": "markdown",
   "metadata": {},
   "source": [
    "# Zła ścieżka bezwzględna do pliku - zalecana poprawa na względną"
   ]
  },
  {
   "cell_type": "code",
   "execution_count": null,
   "metadata": {},
   "outputs": [],
   "source": [
    "X_train=pd.read_csv('X_test.csv')"
   ]
  },
  {
   "cell_type": "code",
   "execution_count": null,
   "metadata": {},
   "outputs": [],
   "source": [
    "X_train.head()"
   ]
  },
  {
   "cell_type": "code",
   "execution_count": null,
   "metadata": {},
   "outputs": [],
   "source": [
    "X_train.columns"
   ]
  },
  {
   "cell_type": "markdown",
   "metadata": {},
   "source": [
    "# Data interpretation\n",
    "### Time\n",
    "- **time**: Time when the data was collected.\n",
    "\n",
    "### Orientation\n",
    "- **seconds_elapsed_orientation**: Time elapsed since the orientation measurement started.\n",
    "- **qz_orientation, qy_orientation, qx_orientation, qw_orientation**: Components of the quaternion representing the device's orientation in 3D space.\n",
    "- **roll_orientation, pitch_orientation, yaw_orientation**: Angles representing the roll, pitch, and yaw of the device.\n",
    "\n",
    "### Location\n",
    "- **seconds_elapsed_location**: Time elapsed since the location measurement started.\n",
    "- **bearingAccuracy_location**: Accuracy of bearing measurement.\n",
    "- **speedAccuracy_location**: Accuracy of speed measurement.\n",
    "- **verticalAccuracy_location, horizontalAccuracy_location**: Accuracy of vertical and horizontal location measurement.\n",
    "- **speed_location**: Speed of the device's movement.\n",
    "- **bearing_location**: Direction of device movement.\n",
    "- **altitude_location**: Altitude above sea level.\n",
    "- **longitude_location, latitude_location**: Geographic coordinates.\n",
    "\n",
    "### Total Acceleration\n",
    "- **seconds_elapsed_total_acceleration**: Duration of total acceleration measurement.\n",
    "- **z_total_acceleration, y_total_acceleration, x_total_acceleration**: Components of the total acceleration in the XYZ axes.\n",
    "\n",
    "### Magnetometer\n",
    "- **seconds_elapsed_magnetometer**: Duration of magnetometer measurement.\n",
    "- **z_magnetometer, y_magnetometer, x_magnetometer**: Components of the magnetic field in the XYZ axes.\n",
    "\n",
    "### Gyroscope\n",
    "- **seconds_elapsed_gyroscope**: Duration of gyroscope measurement.\n",
    "- **z_gyroscope, y_gyroscope, x_gyroscope**: Components of angular velocity in the XYZ axes.\n",
    "\n",
    "### Pedometer\n",
    "- **seconds_elapsed_pedometer**: Duration of pedometer measurement.\n",
    "- **steps_pedometer**: Number of steps taken by the user.\n",
    "\n",
    "### GPS Location\n",
    "- **seconds_elapsed_location_gps**: Duration of GPS location measurement.\n",
    "- **bearingAccuracy_location_gps, speedAccuracy_location_gps, verticalAccuracy_location_gps, horizontalAccuracy_location_gps**: Accuracy parameters of GPS location measurement.\n",
    "- **speed_location_gps, bearing_location_gps, altitude_location_gps, longitude_location_gps, latitude_location_gps**: GPS location parameters.\n",
    "\n",
    "### Network Location\n",
    "- **seconds_elapsed_location_network**: Duration of network location measurement.\n",
    "- **bearingAccuracy_location_network, speedAccuracy_location_network, verticalAccuracy_location_network, horizontalAccuracy_location_network**: Accuracy parameters of network location measurement.\n",
    "- **speed_location_network, bearing_location_network, altitude_location_network, longitude_location_network, latitude_location_network**: Network location parameters.\n",
    "\n",
    "### Gravity\n",
    "- **seconds_elapsed_gravity**: Duration of gravity measurement.\n",
    "- **z_gravity, y_gravity, x_gravity**: Components of the gravitational vector in the XYZ axes.\n"
   ]
  },
  {
   "cell_type": "markdown",
   "metadata": {},
   "source": [
    "## Stats and distributions"
   ]
  },
  {
   "cell_type": "code",
   "execution_count": null,
   "metadata": {},
   "outputs": [],
   "source": [
    "summary_stats = X_train.describe(include='all')\n",
    "summary_stats"
   ]
  },
  {
   "cell_type": "code",
   "execution_count": null,
   "metadata": {},
   "outputs": [],
   "source": [
    "selected_columns = ['qz_orientation', 'z_total_acceleration', 'z_gravity', 'z_magnetometer', 'z_accelerometer', 'z_gyroscope']\n",
    "summary_table = summary_stats.loc[:, selected_columns]\n",
    "print(summary_table)"
   ]
  },
  {
   "cell_type": "code",
   "execution_count": null,
   "metadata": {},
   "outputs": [],
   "source": [
    "plt.figure(figsize=(20, 40))\n",
    "\n",
    "for i, column in enumerate(X_train.columns, 1):\n",
    "    plt.subplot(11, 6, i)\n",
    "    plt.hist(X_train[column], bins=20, color='skyblue', edgecolor='black')\n",
    "    plt.title(column)\n",
    "    plt.xlabel('Value')\n",
    "    plt.ylabel('Frequency')\n",
    "\n",
    "plt.tight_layout()\n",
    "plt.show()"
   ]
  },
  {
   "cell_type": "code",
   "execution_count": null,
   "metadata": {},
   "outputs": [],
   "source": [
    "#looking for outliers\n",
    "plt.figure(figsize=(20, 40))\n",
    "\n",
    "for i, column in enumerate(X_train.columns, 1):\n",
    "    plt.subplot(11, 6, i)\n",
    "    sns.boxplot(data=X_train[column])\n",
    "    plt.title(column)\n",
    "    plt.tight_layout()\n",
    "\n",
    "plt.show()"
   ]
  },
  {
   "cell_type": "markdown",
   "metadata": {},
   "source": [
    "# Widac outliery - zalecane usuniecie ich"
   ]
  },
  {
   "cell_type": "code",
   "execution_count": null,
   "metadata": {},
   "outputs": [],
   "source": [
    "['speed_location_accuracy']"
   ]
  },
  {
   "cell_type": "code",
   "execution_count": null,
   "metadata": {},
   "outputs": [],
   "source": [
    "#correlation matrix\n",
    "correlation=X_train.corr()\n",
    "\n",
    "plt.figure(figsize=(20, 20))\n",
    "sns.heatmap(correlation, annot=True, fmt=\".2f\", cmap='coolwarm')\n",
    "plt.title('Correlation Matrix')\n",
    "plt.show()"
   ]
  },
  {
   "cell_type": "code",
   "execution_count": null,
   "metadata": {},
   "outputs": [],
   "source": [
    "print(\"The number of unique values of a variable bearingAccuracy_location_network:\", X_train[\"bearingAccuracy_location_network\"].nunique())\n",
    "print(\"The number of unique values of a variable speedAccuracy_location_network:\", X_train[\"speedAccuracy_location_network\"].nunique())\n",
    "print(\"The number of unique values of a variable speed_location_network:\", X_train[\"speed_location_network\"].nunique())\n",
    "print(\"The number of unique values of a variable bearing_location_network:\", X_train[\"bearing_location_network\"].nunique())"
   ]
  },
  {
   "cell_type": "markdown",
   "metadata": {},
   "source": [
    "We see that the \"bearingAccuracy_location_network\", \"speedAccuracy_location_network\", \"speed_location_network\", \"bearing_location_network\" variables contain one unique value, which is 0, so they can be removed"
   ]
  },
  {
   "cell_type": "code",
   "execution_count": null,
   "metadata": {},
   "outputs": [],
   "source": [
    "#columns_to_remove = [\"bearingAccuracy_location_network\", \"speedAccuracy_location_network\", \"speed_location_network\", \"bearing_location_network\"]\n",
    "#X_train = X_train.drop(columns_to_remove, axis=1)"
   ]
  },
  {
   "cell_type": "code",
   "execution_count": null,
   "metadata": {},
   "outputs": [],
   "source": [
    "X_train[[\"seconds_elapsed_orientation\", \"seconds_elapsed_location\", \"seconds_elapsed_total_acceleration\", \"seconds_elapsed_magnetometer\",\n",
    "        \"seconds_elapsed_accelerometer\", \"seconds_elapsed_location_gps\", \"seconds_elapsed_gyroscope\", \"seconds_elapsed_pedometer\",\n",
    "         \"seconds_elapsed_location_network\", \"seconds_elapsed_gravity\"]]\n"
   ]
  },
  {
   "cell_type": "markdown",
   "metadata": {},
   "source": [
    "The columns showing the time elapsed since the start of the measurement on different devices show almost the same data, which can be seen in the correlation matrix. The exceptions are the \"seconds_elapsed_location_network\" and \"seconds_elapsed_pedometer\" columns, which are different from the others. This is probably due to the device's lack of Internet access and inaccurate step measurement.\n",
    "We will average the values of the remaining columns to reduce the dimensions of the matrix."
   ]
  },
  {
   "cell_type": "code",
   "execution_count": null,
   "metadata": {},
   "outputs": [],
   "source": [
    "#X_train[\"seconds_elapsed\"] = X_train[[\"seconds_elapsed_orientation\", \"seconds_elapsed_location\", \"seconds_elapsed_total_acceleration\", \"seconds_elapsed_magnetometer\",\n",
    "#        \"seconds_elapsed_accelerometer\", \"seconds_elapsed_location_gps\", \"seconds_elapsed_gyroscope\", \"seconds_elapsed_gravity\"]].mean(axis=1)\n",
    "#\n",
    "#X_train = X_train.drop([\"seconds_elapsed_orientation\", \"seconds_elapsed_location\", \"seconds_elapsed_total_acceleration\", \"seconds_elapsed_magnetometer\",\n",
    "#        \"seconds_elapsed_accelerometer\", \"seconds_elapsed_location_gps\", \"seconds_elapsed_gyroscope\", \"seconds_elapsed_gravity\"], axis=1)\n"
   ]
  },
  {
   "cell_type": "code",
   "execution_count": null,
   "metadata": {},
   "outputs": [],
   "source": [
    "X_train.head()"
   ]
  },
  {
   "cell_type": "code",
   "execution_count": null,
   "metadata": {},
   "outputs": [],
   "source": [
    "speed_location = X_train['speed_location']\n",
    "speed_location_gps = X_train['speed_location_gps']\n",
    "\n",
    "plt.figure(figsize=(8, 6))\n",
    "plt.scatter(speed_location, speed_location_gps, alpha=0.5)\n",
    "plt.xlabel('Speed Location')\n",
    "plt.ylabel('Speed Location GPS')\n",
    "plt.title('Comparison of Speed Location and Speed Location GPS')\n",
    "plt.grid(True)\n",
    "plt.show()\n",
    "\n",
    "plt.figure(figsize=(10, 4))\n",
    "plt.hist(speed_location, bins=20, alpha=0.5, label='Speed Location')\n",
    "plt.hist(speed_location_gps, bins=20, alpha=0.5, label='Speed Location GPS')\n",
    "plt.xlabel('Speed')\n",
    "plt.ylabel('Frequency')\n",
    "plt.title('Histogram of Speed Location and Speed Location GPS')\n",
    "plt.legend()\n",
    "plt.grid(True)\n",
    "plt.show()"
   ]
  },
  {
   "cell_type": "markdown",
   "metadata": {},
   "source": [
    "## Timeseries"
   ]
  },
  {
   "cell_type": "code",
   "execution_count": null,
   "metadata": {},
   "outputs": [],
   "source": [
    "time_to_date= pd.to_datetime(X_train['time'], unit='ns')\n",
    "time_to_date.describe()"
   ]
  },
  {
   "cell_type": "code",
   "execution_count": null,
   "metadata": {},
   "outputs": [],
   "source": [
    "X_train.columns"
   ]
  },
  {
   "cell_type": "code",
   "execution_count": null,
   "metadata": {},
   "outputs": [],
   "source": [
    "decomp_df = pd.DataFrame()\n",
    "\n",
    "selected_columns=['qz_orientation', 'qy_orientation', 'qx_orientation', 'speed_location', 'bearing_location', 'altitude_location', 'longitude_location', 'latitude_location', \n",
    "                  'z_total_acceleration', 'y_total_acceleration', 'x_total_acceleration']\n",
    "\n",
    "for col in selected_columns:\n",
    "    result = seasonal_decompose(X_train[col], model='additive', period=1)\n",
    "    temp_df = pd.DataFrame({\n",
    "        'Date': X_train.index,\n",
    "        'Observed': result.observed,\n",
    "        'Trend': result.trend,\n",
    "        'Column': col\n",
    "    })\n",
    "    decomp_df = pd.concat([decomp_df, temp_df], ignore_index=True)\n",
    "\n",
    "decomp_melted = decomp_df.melt(id_vars=['Date', 'Column'], value_vars=['Observed', 'Trend'], var_name='Component', value_name='Value')\n",
    "\n",
    "fig = px.line(decomp_melted, x='Date', y='Value', color='Component', facet_col='Column', facet_col_wrap=3, height=800)\n",
    "fig.update_layout(title_text='Seasonal Decomposition of Time Series (Observed and Trend)', title_x=0.5)\n",
    "fig.show()\n"
   ]
  },
  {
   "cell_type": "code",
   "execution_count": null,
   "metadata": {},
   "outputs": [],
   "source": [
    "import matplotlib as mpl\n",
    "mpl.rcParams['agg.path.chunksize'] = 10000\n",
    "\n",
    "def downsample_data(data, target_size=1000):\n",
    "    ratio = len(data) / target_size\n",
    "    if ratio <= 1:\n",
    "        return data\n",
    "    else:\n",
    "        return data.iloc[::int(ratio)]\n",
    "\n",
    "decomposed_data = {}\n",
    "\n",
    "X_train_downsampled = X_train.apply(downsample_data)\n",
    "\n",
    "for column in X_train_downsampled.columns:\n",
    "    decomposition = seasonal_decompose(X_train_downsampled[column], model='additive', period=1)\n",
    "    decomposed_data[column] = decomposition\n",
    "\n",
    "for column in decomposed_data.keys():\n",
    "    plt.figure(figsize=(12, 10))\n",
    "\n",
    "    plt.subplot(4, 1, 1)\n",
    "    decomposed_data[column].trend.plot()\n",
    "    plt.title(f'Trend Component - {column}')\n",
    "    plt.xlabel('Time')\n",
    "    plt.ylabel('Trend Component')\n",
    "    plt.tight_layout()\n",
    "    plt.show()\n",
    "\n",
    "    plt.figure(figsize=(12, 10))\n",
    "    plt.subplot(4, 1, 2)\n",
    "    decomposed_data[column].observed.plot()\n",
    "    plt.title(f'Observed Data - {column}')\n",
    "    plt.xlabel('Time')\n",
    "    plt.ylabel('Observed Data')\n",
    "    plt.tight_layout()\n",
    "    plt.show()\n",
    "\n"
   ]
  },
  {
   "cell_type": "markdown",
   "metadata": {},
   "source": [
    "# brak wyjasnienia wykresow i brak wyciagnietych zadnych wnioskow z nich - zbedne miejsce"
   ]
  },
  {
   "cell_type": "markdown",
   "metadata": {},
   "source": [
    "## Geovisualization"
   ]
  },
  {
   "cell_type": "code",
   "execution_count": null,
   "metadata": {},
   "outputs": [],
   "source": [
    "\n",
    "m = folium.Map(location=[X_train['latitude_location'].mean(), X_train['longitude_location'].mean()], zoom_start=10) \n",
    "\n",
    "northmost_point = X_train.loc[X_train['latitude_location'].idxmax(), ['latitude_location', 'longitude_location']]\n",
    "southmost_point = X_train.loc[X_train['latitude_location'].idxmin(), ['latitude_location', 'longitude_location']]\n",
    "eastmost_point = X_train.loc[X_train['longitude_location'].idxmax(), ['latitude_location', 'longitude_location']]\n",
    "westmost_point = X_train.loc[X_train['longitude_location'].idxmin(), ['latitude_location', 'longitude_location']]\n",
    "\n",
    "#50 random data points\n",
    "for _ in range(50):\n",
    "    random_record = X_train.sample()\n",
    "    longitude = random_record['longitude_location'].values[0]\n",
    "    latitude = random_record['latitude_location'].values[0]\n",
    "\n",
    "    folium.Marker([latitude, longitude], tooltip='Random Location').add_to(m)\n",
    "\n",
    "folium.Marker([northmost_point['latitude_location'], northmost_point['longitude_location']], tooltip='Northmost Point', icon=folium.Icon(color='red')).add_to(m)\n",
    "folium.Marker([southmost_point['latitude_location'], southmost_point['longitude_location']], tooltip='Southmost Point', icon=folium.Icon(color='red')).add_to(m)\n",
    "folium.Marker([eastmost_point['latitude_location'], eastmost_point['longitude_location']], tooltip='Eastmost Point', icon=folium.Icon(color='red')).add_to(m)\n",
    "folium.Marker([westmost_point['latitude_location'], westmost_point['longitude_location']], tooltip='Westmost Point', icon=folium.Icon(color='red')).add_to(m)\n",
    "\n",
    "m.save(\"map.html\")\n",
    "m\n"
   ]
  },
  {
   "cell_type": "markdown",
   "metadata": {},
   "source": [
    "### Heatmap"
   ]
  },
  {
   "cell_type": "code",
   "execution_count": null,
   "metadata": {},
   "outputs": [],
   "source": [
    "map_heatmap = folium.Map(location=[X_train['latitude_location'].mean(), X_train['longitude_location'].mean()], zoom_start=10)\n",
    "\n",
    "location_data = list(zip(X_train['latitude_location'], X_train['longitude_location']))\n",
    "\n",
    "heatmap = HeatMap(location_data)\n",
    "map_heatmap.add_child(heatmap)\n",
    "\n",
    "map_heatmap.save(\"heatmap.html\")"
   ]
  },
  {
   "cell_type": "markdown",
   "metadata": {},
   "source": [
    "### Speed map"
   ]
  },
  {
   "cell_type": "code",
   "execution_count": null,
   "metadata": {},
   "outputs": [],
   "source": [
    "sampled_data = X_train[::50]\n",
    "\n",
    "map_speed = folium.Map(location=[sampled_data['latitude_location'].mean(), sampled_data['longitude_location'].mean()], zoom_start=10)\n",
    "\n",
    "speed_colormap = linear.YlOrRd_09.scale(min(sampled_data['speed_location']), max(sampled_data['speed_location']))\n",
    "speed_colormap.caption = 'Speed (m/s)'\n",
    "\n",
    "for lat, lon, speed in zip(sampled_data['latitude_location'], sampled_data['longitude_location'], sampled_data['speed_location']):\n",
    "    folium.CircleMarker(\n",
    "        location=[lat, lon],\n",
    "        radius=5,  \n",
    "        color=None,  \n",
    "        fill=True,\n",
    "        fill_color=speed_colormap(speed), \n",
    "        fill_opacity=0.7,\n",
    "        popup=f'Speed: {speed} m/s' \n",
    "    ).add_to(map_speed)\n",
    "\n",
    "map_speed.add_child(speed_colormap)\n",
    "\n",
    "map_speed.save(\"speed_map_gradient.html\")"
   ]
  },
  {
   "cell_type": "code",
   "execution_count": null,
   "metadata": {},
   "outputs": [],
   "source": [
    "n = 10\n",
    "theta = X_train['bearing_location'][::n] * np.pi / 180\n",
    "r = X_train['seconds_elapsed_location'][::n]\n",
    "\n",
    "theta_gps = X_train['bearing_location_gps'][::n] * np.pi / 180\n",
    "r_gps = X_train['seconds_elapsed_location'][::n]\n",
    "\n",
    "plt.figure(figsize=(20, 8))\n",
    "\n",
    "ax1 = plt.subplot(121, projection='polar')\n",
    "ax1.scatter(theta, r, color='b', alpha=0.5, label='Bearing Location')\n",
    "ax1.set_title('Bearing Location over Time (Sampled)', va='bottom')\n",
    "ax1.legend(loc='upper right')\n",
    "\n",
    "ax2 = plt.subplot(122, projection='polar')\n",
    "ax2.scatter(theta_gps, r_gps, color='r', alpha=0.5, label='Bearing Location GPS')\n",
    "ax2.set_title('Bearing Location GPS over Time (Sampled)', va='bottom')\n",
    "ax2.legend(loc='upper right')\n",
    "\n",
    "plt.show()"
   ]
  },
  {
   "cell_type": "code",
   "execution_count": null,
   "metadata": {},
   "outputs": [],
   "source": [
    "X_train.columns"
   ]
  },
  {
   "cell_type": "markdown",
   "metadata": {},
   "source": [
    "# Blad - cos jest nie tak z kodem, wykresy nic nie wnoszą"
   ]
  },
  {
   "cell_type": "code",
   "execution_count": null,
   "metadata": {},
   "outputs": [],
   "source": [
    "plt.figure(figsize=(10, 6))\n",
    "plt.scatter(X_train['seconds_elapsed_location'], X_train['speed_location'], color='blue', alpha=0.7)\n",
    "plt.xlabel('Time (seconds)')\n",
    "plt.ylabel('Speed (m/s)')\n",
    "plt.title('Speed vs. Time')\n",
    "plt.grid(True)\n",
    "plt.show()\n",
    "\n",
    "plt.figure(figsize=(10, 6))\n",
    "plt.scatter(X_train['seconds_elapsed_location'], X_train['x_total_acceleration'], color='red', label='X Acceleration', alpha=0.7)\n",
    "plt.scatter(X_train['seconds_elapsed_location'], X_train['y_total_acceleration'], color='green', label='Y Acceleration', alpha=0.7)\n",
    "plt.scatter(X_train['seconds_elapsed_location'], X_train['z_total_acceleration'], color='blue', label='Z Acceleration', alpha=0.7)\n",
    "plt.xlabel('Time (seconds)')\n",
    "plt.ylabel('Total Acceleration (m/s^2)')\n",
    "plt.title('Total Acceleration vs. Time')\n",
    "plt.legend()\n",
    "plt.grid(True)\n",
    "plt.show()"
   ]
  },
  {
   "cell_type": "code",
   "execution_count": null,
   "metadata": {},
   "outputs": [],
   "source": [
    "plt.figure(figsize=(10, 6))\n",
    "\n",
    "plt.plot(X_train['seconds_elapsed_pedometer'], X_train['steps_pedometer'], label='Steps', color='blue')\n",
    "\n",
    "plt.xlabel('Time')\n",
    "plt.ylabel('Steps')\n",
    "plt.title('Steps over Time')\n",
    "plt.legend()\n",
    "plt.grid(True)\n",
    "plt.show()"
   ]
  },
  {
   "cell_type": "markdown",
   "metadata": {},
   "source": [
    "The step count versus time graph shows negative time. This is due to the step measurement device not starting correctly. However, it can be seen that the number of steps increases linearly with time, which suggests a constant speed during walking."
   ]
  },
  {
   "cell_type": "markdown",
   "metadata": {},
   "source": [
    "## PCA"
   ]
  },
  {
   "cell_type": "markdown",
   "metadata": {},
   "source": [
    "# Zalecane zrobienie interpretacji wariancji przed wyborem n_components"
   ]
  },
  {
   "cell_type": "markdown",
   "metadata": {},
   "source": [
    "# Ogromny błąd - nieznormalizowanie danych przed PCA"
   ]
  },
  {
   "cell_type": "code",
   "execution_count": null,
   "metadata": {},
   "outputs": [],
   "source": [
    "pca = PCA(n_components=2)\n",
    "principal_components = pca.fit_transform(X_train)\n",
    "\n",
    "pca_df = pd.DataFrame(data=principal_components, columns=['PC1', 'PC2'])\n",
    "print(pca_df.sample(5))"
   ]
  },
  {
   "cell_type": "code",
   "execution_count": null,
   "metadata": {},
   "outputs": [],
   "source": [
    "plt.figure(figsize=(10, 6))\n",
    "sns.scatterplot(x='PC1', y='PC2', data=pca_df)\n",
    "plt.title('PCA Visualization of Data')\n",
    "plt.xlabel('Principal Component 1')\n",
    "plt.ylabel('Principal Component 2')\n",
    "plt.show()"
   ]
  },
  {
   "cell_type": "code",
   "execution_count": null,
   "metadata": {},
   "outputs": [],
   "source": [
    "print(pca.explained_variance_ratio_)"
   ]
  },
  {
   "cell_type": "markdown",
   "metadata": {},
   "source": [
    "### Possible Reasons for Such Result in PCA:\n",
    "\n",
    "### High Variable Correlation:\n",
    "If variables are highly correlated, PCA may \"capture\" most of the variance in one component.\n",
    "\n",
    "### Lack of Data Diversity:\n",
    "If data lacks diversity or has low variability, PCA may struggle to detect significant differences between samples.\n",
    "\n",
    "Given the nature of the data being measurements from several sensors, they are likely to be similar, with values close to each other. Additionally, some variables are highly correlated due to repetitive input data.\n",
    "\n",
    "After analyzing correlations and dependencies between variables and conducting column reduction, PCA will be performed again."
   ]
  },
  {
   "cell_type": "code",
   "execution_count": null,
   "metadata": {},
   "outputs": [],
   "source": [
    "pca = PCA(n_components=X_train.shape[1])\n",
    "pca.fit(X_train)\n",
    "\n",
    "cumulative_variance_ratio = np.cumsum(pca.explained_variance_ratio_)\n",
    "optimal_num_components = np.argmax(cumulative_variance_ratio >= 0.95) + 1\n",
    "\n",
    "print(f\"Optimal number of components to explain 95% variance: {optimal_num_components}\")\n",
    "print(\"Explained variance ratio for first few components:\")\n",
    "for i in range(5):\n",
    "    print(f\"PC{i+1}: {pca.explained_variance_ratio_[i]}\")"
   ]
  },
  {
   "cell_type": "code",
   "execution_count": null,
   "metadata": {},
   "outputs": [],
   "source": [
    "scaler = StandardScaler()\n",
    "X_train_scaled = scaler.fit_transform(X_train)\n",
    "\n",
    "ica = FastICA(n_components=2, random_state=42)\n",
    "X_train_ica = ica.fit_transform(X_train_scaled)\n",
    "\n",
    "ica_df = pd.DataFrame(data=X_train_ica, columns=['IC1', 'IC2'])\n",
    "\n",
    "print(ica_df.sample(5))\n",
    "\n",
    "plt.figure(figsize=(10, 6))\n",
    "sns.scatterplot(x='IC1', y='IC2', data=ica_df)\n",
    "plt.title('ICA Visualization of Data')\n",
    "plt.xlabel('Independent Component 1')\n",
    "plt.ylabel('Independent Component 2')\n",
    "plt.show()\n",
    "\n",
    "mixing_matrix = pd.DataFrame(ica.mixing_, columns=['IC1', 'IC2'])\n",
    "print(\"Mixing Matrix:\")\n",
    "print(mixing_matrix)"
   ]
  }
 ],
 "metadata": {
  "kernelspec": {
   "display_name": "Python 3 (ipykernel)",
   "language": "python",
   "name": "python3"
  },
  "language_info": {
   "codemirror_mode": {
    "name": "ipython",
    "version": 3
   },
   "file_extension": ".py",
   "mimetype": "text/x-python",
   "name": "python",
   "nbconvert_exporter": "python",
   "pygments_lexer": "ipython3",
   "version": "3.11.7"
  }
 },
 "nbformat": 4,
 "nbformat_minor": 2
}
